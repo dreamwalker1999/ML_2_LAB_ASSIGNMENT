{
  "nbformat": 4,
  "nbformat_minor": 0,
  "metadata": {
    "colab": {
      "name": "ML2_LAB_ASSIGNMENT2_FFNN_CIFAR10.ipynb",
      "provenance": [],
      "collapsed_sections": []
    },
    "kernelspec": {
      "name": "python3",
      "display_name": "Python 3"
    },
    "accelerator": "GPU"
  },
  "cells": [
    {
      "cell_type": "markdown",
      "metadata": {
        "id": "Y2CvmzJVVgRc",
        "colab_type": "text"
      },
      "source": [
        "**Name - Atharva Gondkar**\n",
        "\n",
        "**Class - IS2**\n",
        "\n",
        "**Roll Number - 2176032**\n",
        "\n",
        "**Enrollment Number - MITU17BTMA0013**\n",
        "\n",
        "\n",
        "---\n",
        "\n",
        "**EXPERIMENT #2** \n",
        "\n",
        "**DATE: 01-09-2020**\n",
        "\n",
        "---\n",
        "\n",
        "\n",
        "#**TITLE : ML II ASSIGNMENT 2**\n",
        "\n",
        "---\n",
        "\n",
        "\n",
        "#**AIM**\n",
        "\n",
        "Perform Image classification using CIFAR-10 dataset.\n",
        "\n",
        "\n",
        "#**OBJECTIVE**\n",
        "1. Implement FFNN for Image Classification using CIFAR-10 dataset.\n",
        "\n",
        "\n",
        "\n",
        "**DRIVE LINK** - *https://drive.google.com/drive/u/0/folders/1VFRRP-IpjH_iq-Beojnorny4Rm53uT6E*\n",
        "\n",
        "  **Notebook, code, pdf, output snapshots have been stored on the above given drive link.*"
      ]
    },
    {
      "cell_type": "markdown",
      "metadata": {
        "id": "S0TwmJhSSNip",
        "colab_type": "text"
      },
      "source": [
        "# **CIFAR10**"
      ]
    },
    {
      "cell_type": "code",
      "metadata": {
        "id": "4EHvKLbawPfx",
        "colab_type": "code",
        "colab": {}
      },
      "source": [
        "from tensorflow.keras.datasets import cifar10\n",
        "from matplotlib import pyplot as plt\n",
        "from tensorflow import keras\n",
        "import tensorflow.compat.v2 as tf\n",
        "from sklearn.model_selection import train_test_split\n",
        "from tensorflow.keras.utils import to_categorical as tcg\n",
        "from tensorflow.keras.models import Sequential\n",
        "from tensorflow.keras.layers import Dense, Flatten"
      ],
      "execution_count": null,
      "outputs": []
    },
    {
      "cell_type": "code",
      "metadata": {
        "id": "SMrjszw7xZFw",
        "colab_type": "code",
        "colab": {
          "base_uri": "https://localhost:8080/",
          "height": 50
        },
        "outputId": "c759b84d-9762-44da-fa86-befff428a4c3"
      },
      "source": [
        "(xtr,ytr),(xte,yte)=cifar10.load_data()"
      ],
      "execution_count": null,
      "outputs": [
        {
          "output_type": "stream",
          "text": [
            "Downloading data from https://www.cs.toronto.edu/~kriz/cifar-10-python.tar.gz\n",
            "170500096/170498071 [==============================] - 4s 0us/step\n"
          ],
          "name": "stdout"
        }
      ]
    },
    {
      "cell_type": "code",
      "metadata": {
        "id": "hjZkN-tH0rxh",
        "colab_type": "code",
        "colab": {
          "base_uri": "https://localhost:8080/",
          "height": 34
        },
        "outputId": "fd7ad89e-22bc-4ec4-c57b-c389f8eb2776"
      },
      "source": [
        "xtr.shape"
      ],
      "execution_count": null,
      "outputs": [
        {
          "output_type": "execute_result",
          "data": {
            "text/plain": [
              "(50000, 32, 32, 3)"
            ]
          },
          "metadata": {
            "tags": []
          },
          "execution_count": 3
        }
      ]
    },
    {
      "cell_type": "code",
      "metadata": {
        "id": "4K1G54bHBx66",
        "colab_type": "code",
        "colab": {
          "base_uri": "https://localhost:8080/",
          "height": 283
        },
        "outputId": "476b12cf-0790-4102-da85-fb3e3d0c8cd3"
      },
      "source": [
        "plt.imshow(xtr[99], cmap='gray')"
      ],
      "execution_count": null,
      "outputs": [
        {
          "output_type": "execute_result",
          "data": {
            "text/plain": [
              "<matplotlib.image.AxesImage at 0x7fad71155a58>"
            ]
          },
          "metadata": {
            "tags": []
          },
          "execution_count": 4
        },
        {
          "output_type": "display_data",
          "data": {
            "image/png": "[encoded data removed]",
            "text/plain": [
              "<Figure size 432x288 with 1 Axes>"
            ]
          },
          "metadata": {
            "tags": [],
            "needs_background": "light"
          }
        }
      ]
    },
    {
      "cell_type": "code",
      "metadata": {
        "id": "P4NfYkwQDNA-",
        "colab_type": "code",
        "colab": {
          "base_uri": "https://localhost:8080/",
          "height": 34
        },
        "outputId": "a4ef68f2-dadb-4069-b63d-a85f0f114ba3"
      },
      "source": [
        "ytr[99]"
      ],
      "execution_count": null,
      "outputs": [
        {
          "output_type": "execute_result",
          "data": {
            "text/plain": [
              "array([1], dtype=uint8)"
            ]
          },
          "metadata": {
            "tags": []
          },
          "execution_count": 5
        }
      ]
    },
    {
      "cell_type": "code",
      "metadata": {
        "id": "O3HFAc1UqETZ",
        "colab_type": "code",
        "colab": {
          "base_uri": "https://localhost:8080/",
          "height": 283
        },
        "outputId": "256f1db2-ed68-4c8d-86dc-3c6b8aff3069"
      },
      "source": [
        "plt.imshow(xte[99], cmap='gray')"
      ],
      "execution_count": null,
      "outputs": [
        {
          "output_type": "execute_result",
          "data": {
            "text/plain": [
              "<matplotlib.image.AxesImage at 0x7fad70c2bf98>"
            ]
          },
          "metadata": {
            "tags": []
          },
          "execution_count": 6
        },
        {
          "output_type": "display_data",
          "data": {
            "image/png": "[encoded data removed]",
            "text/plain": [
              "<Figure size 432x288 with 1 Axes>"
            ]
          },
          "metadata": {
            "tags": [],
            "needs_background": "light"
          }
        }
      ]
    },
    {
      "cell_type": "code",
      "metadata": {
        "id": "j6jzqki2qLmb",
        "colab_type": "code",
        "colab": {
          "base_uri": "https://localhost:8080/",
          "height": 34
        },
        "outputId": "12be7aee-a83b-49d3-b49d-7eb3d52dccd8"
      },
      "source": [
        "yte[99]"
      ],
      "execution_count": null,
      "outputs": [
        {
          "output_type": "execute_result",
          "data": {
            "text/plain": [
              "array([7], dtype=uint8)"
            ]
          },
          "metadata": {
            "tags": []
          },
          "execution_count": 7
        }
      ]
    },
    {
      "cell_type": "code",
      "metadata": {
        "id": "ZKJ7-AwK0q2w",
        "colab_type": "code",
        "colab": {}
      },
      "source": [
        "ytr=tcg(ytr)\n",
        "yte=tcg(yte)"
      ],
      "execution_count": null,
      "outputs": []
    },
    {
      "cell_type": "code",
      "metadata": {
        "id": "-TRlMrFhxaHS",
        "colab_type": "code",
        "colab": {}
      },
      "source": [
        "xte=xte.reshape(xte.shape[0],xte.shape[1],xte.shape[2],3).astype('float32')/255\n",
        "xtr=xtr.reshape(xtr.shape[0],xtr.shape[1],xtr.shape[2],3).astype('float32')/255"
      ],
      "execution_count": null,
      "outputs": []
    },
    {
      "cell_type": "code",
      "metadata": {
        "id": "488ekMPttqQP",
        "colab_type": "code",
        "colab": {}
      },
      "source": [
        "model = Sequential([\n",
        "  Flatten(input_shape=(32, 32, 3)),\n",
        "  Dense(256, activation='relu'),\n",
        "  Dense(128, activation='relu', kernel_initializer='he_uniform'),\n",
        "  Dense(64, activation='relu'),\n",
        "  Dense(10, activation='softmax'),\n",
        "  \n",
        "])"
      ],
      "execution_count": null,
      "outputs": []
    },
    {
      "cell_type": "code",
      "metadata": {
        "id": "Cwvo7vHlYfxh",
        "colab_type": "code",
        "colab": {}
      },
      "source": [
        "from keras.optimizers import Adam\n",
        "model.compile(loss='categorical_crossentropy',optimizer=Adam(lr = 0.0001), metrics=['accuracy'])"
      ],
      "execution_count": null,
      "outputs": []
    },
    {
      "cell_type": "code",
      "metadata": {
        "id": "xufOKyQkYvTe",
        "colab_type": "code",
        "colab": {
          "base_uri": "https://localhost:8080/",
          "height": 454
        },
        "outputId": "09bb4897-aa74-4681-9ea3-c6e6df4371c2"
      },
      "source": [
        "history = model.fit(xtr,ytr, validation_data=(xte,yte),epochs=13, batch_size=64)"
      ],
      "execution_count": null,
      "outputs": [
        {
          "output_type": "stream",
          "text": [
            "Epoch 1/13\n",
            "782/782 [==============================] - 3s 3ms/step - loss: 1.8873 - accuracy: 0.3270 - val_loss: 1.7314 - val_accuracy: 0.3858\n",
            "Epoch 2/13\n",
            "782/782 [==============================] - 2s 3ms/step - loss: 1.7034 - accuracy: 0.3978 - val_loss: 1.6928 - val_accuracy: 0.3876\n",
            "Epoch 3/13\n",
            "782/782 [==============================] - 2s 3ms/step - loss: 1.6259 - accuracy: 0.4250 - val_loss: 1.6071 - val_accuracy: 0.4357\n",
            "Epoch 4/13\n",
            "782/782 [==============================] - 2s 3ms/step - loss: 1.5671 - accuracy: 0.4484 - val_loss: 1.5501 - val_accuracy: 0.4555\n",
            "Epoch 5/13\n",
            "782/782 [==============================] - 2s 3ms/step - loss: 1.5304 - accuracy: 0.4586 - val_loss: 1.5393 - val_accuracy: 0.4487\n",
            "Epoch 6/13\n",
            "782/782 [==============================] - 2s 3ms/step - loss: 1.4948 - accuracy: 0.4706 - val_loss: 1.5043 - val_accuracy: 0.4658\n",
            "Epoch 7/13\n",
            "782/782 [==============================] - 2s 3ms/step - loss: 1.4652 - accuracy: 0.4824 - val_loss: 1.5158 - val_accuracy: 0.4651\n",
            "Epoch 8/13\n",
            "782/782 [==============================] - 2s 3ms/step - loss: 1.4382 - accuracy: 0.4931 - val_loss: 1.5349 - val_accuracy: 0.4496\n",
            "Epoch 9/13\n",
            "782/782 [==============================] - 2s 3ms/step - loss: 1.4122 - accuracy: 0.5006 - val_loss: 1.4530 - val_accuracy: 0.4811\n",
            "Epoch 10/13\n",
            "782/782 [==============================] - 2s 3ms/step - loss: 1.3894 - accuracy: 0.5088 - val_loss: 1.4243 - val_accuracy: 0.4969\n",
            "Epoch 11/13\n",
            "782/782 [==============================] - 2s 3ms/step - loss: 1.3687 - accuracy: 0.5163 - val_loss: 1.4299 - val_accuracy: 0.4897\n",
            "Epoch 12/13\n",
            "782/782 [==============================] - 2s 3ms/step - loss: 1.3490 - accuracy: 0.5236 - val_loss: 1.4342 - val_accuracy: 0.4885\n",
            "Epoch 13/13\n",
            "782/782 [==============================] - 2s 3ms/step - loss: 1.3312 - accuracy: 0.5286 - val_loss: 1.3998 - val_accuracy: 0.4979\n"
          ],
          "name": "stdout"
        }
      ]
    },
    {
      "cell_type": "code",
      "metadata": {
        "id": "EInMzdXLd5o8",
        "colab_type": "code",
        "colab": {
          "base_uri": "https://localhost:8080/",
          "height": 50
        },
        "outputId": "0c3a9aca-b8f1-4778-faef-e11f6634cf23"
      },
      "source": [
        "model.evaluate(xtr,ytr)"
      ],
      "execution_count": null,
      "outputs": [
        {
          "output_type": "stream",
          "text": [
            "1563/1563 [==============================] - 3s 2ms/step - loss: 1.3076 - accuracy: 0.5397\n"
          ],
          "name": "stdout"
        },
        {
          "output_type": "execute_result",
          "data": {
            "text/plain": [
              "[1.3075944185256958, 0.5396999716758728]"
            ]
          },
          "metadata": {
            "tags": []
          },
          "execution_count": 13
        }
      ]
    },
    {
      "cell_type": "code",
      "metadata": {
        "id": "NX3dcCLwOTP4",
        "colab_type": "code",
        "colab": {
          "base_uri": "https://localhost:8080/",
          "height": 34
        },
        "outputId": "166ca685-6ab2-4163-99a0-1b4761ca1f9b"
      },
      "source": [
        "score = model.evaluate(xte,yte)"
      ],
      "execution_count": null,
      "outputs": [
        {
          "output_type": "stream",
          "text": [
            "313/313 [==============================] - 1s 2ms/step - loss: 1.3998 - accuracy: 0.4979\n"
          ],
          "name": "stdout"
        }
      ]
    },
    {
      "cell_type": "code",
      "metadata": {
        "id": "SHmlsgxbA_Bk",
        "colab_type": "code",
        "colab": {
          "base_uri": "https://localhost:8080/",
          "height": 50
        },
        "outputId": "41ae6e5a-c552-4075-f587-6c6d6c63ba03"
      },
      "source": [
        "print('Test loss:', score[0])\n",
        "print('Test accuracy:', score[1])"
      ],
      "execution_count": null,
      "outputs": [
        {
          "output_type": "stream",
          "text": [
            "Test loss: 1.3997923135757446\n",
            "Test accuracy: 0.49790000915527344\n"
          ],
          "name": "stdout"
        }
      ]
    },
    {
      "cell_type": "code",
      "metadata": {
        "id": "EGHODHTGBUyv",
        "colab_type": "code",
        "colab": {
          "base_uri": "https://localhost:8080/",
          "height": 295
        },
        "outputId": "1fae957d-7471-4ddc-d671-bdc99fce5e47"
      },
      "source": [
        "plt.plot(history.history['accuracy'])\n",
        "plt.plot(history.history['val_accuracy'])\n",
        "plt.title('model accuracy')\n",
        "plt.ylabel('accuracy')\n",
        "plt.xlabel('epoch')\n",
        "plt.legend(['train', 'test'], loc='upper left')\n",
        "plt.show()"
      ],
      "execution_count": null,
      "outputs": [
        {
          "output_type": "display_data",
          "data": {
            "image/png": "[encoded data removed]",
            "text/plain": [
              "<Figure size 432x288 with 1 Axes>"
            ]
          },
          "metadata": {
            "tags": [],
            "needs_background": "light"
          }
        }
      ]
    },
    {
      "cell_type": "code",
      "metadata": {
        "id": "WyN_Wd31kLKS",
        "colab_type": "code",
        "colab": {
          "base_uri": "https://localhost:8080/",
          "height": 295
        },
        "outputId": "4cfe3983-d1cb-43e4-8e97-0503b96dde7e"
      },
      "source": [
        "plt.plot(history.history['loss'])\n",
        "plt.plot(history.history['val_loss'])\n",
        "plt.title('model loss')\n",
        "plt.ylabel('loss')\n",
        "plt.xlabel('epoch')\n",
        "plt.legend(['train', 'test'], loc='upper left')\n",
        "plt.show()"
      ],
      "execution_count": null,
      "outputs": [
        {
          "output_type": "display_data",
          "data": {
            "image/png": "[encoded data removed]",
            "text/plain": [
              "<Figure size 432x288 with 1 Axes>"
            ]
          },
          "metadata": {
            "tags": [],
            "needs_background": "light"
          }
        }
      ]
    },
    {
      "cell_type": "code",
      "metadata": {
        "id": "RI_eSjFjDAbS",
        "colab_type": "code",
        "colab": {}
      },
      "source": [
        "import numpy as np\n",
        "np.save('my_history.npy',history.history)"
      ],
      "execution_count": null,
      "outputs": []
    },
    {
      "cell_type": "code",
      "metadata": {
        "id": "cAh1RWRgDC4D",
        "colab_type": "code",
        "colab": {}
      },
      "source": [
        "model.save('FFNN_CIFAR10.h5')"
      ],
      "execution_count": null,
      "outputs": []
    }
  ]
}