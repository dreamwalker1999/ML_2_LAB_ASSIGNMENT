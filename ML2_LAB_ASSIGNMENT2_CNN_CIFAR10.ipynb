{
  "nbformat": 4,
  "nbformat_minor": 0,
  "metadata": {
    "colab": {
      "name": "ML2_LAB_ASSIGNMENT2_CNN_CIFAR10.ipynb",
      "provenance": [],
      "collapsed_sections": []
    },
    "kernelspec": {
      "name": "python3",
      "display_name": "Python 3"
    },
    "accelerator": "GPU"
  },
  "cells": [
    {
      "cell_type": "markdown",
      "metadata": {
        "id": "OQQ7QdsqUkVi",
        "colab_type": "text"
      },
      "source": [
        "**Name - Atharva Gondkar**\n",
        "\n",
        "**Class - IS2**\n",
        "\n",
        "**Roll Number - 2176032**\n",
        "\n",
        "**Enrollment Number - MITU17BTMA0013**\n",
        "\n",
        "\n",
        "---\n",
        "\n",
        "**EXPERIMENT #2** \n",
        "\n",
        "**DATE: 01-09-2020**\n",
        "\n",
        "---\n",
        "\n",
        "\n",
        "#**TITLE : ML II ASSIGNMENT 2**\n",
        "\n",
        "---\n",
        "\n",
        "\n",
        "#**AIM**\n",
        "\n",
        "Perform Image classification using CIFAR-10 dataset.\n",
        "\n",
        "\n",
        "#**OBJECTIVE**\n",
        "1. Implement CNN for Image Classification using CIFAR-10 dataset.\n",
        "\n",
        "\n",
        "\n",
        "**DRIVE LINK** - *https://drive.google.com/drive/u/0/folders/1VFRRP-IpjH_iq-Beojnorny4Rm53uT6E*\n",
        "\n",
        "  **Notebook, code, pdf, output snapshots have been stored on the above given drive link.*"
      ]
    },
    {
      "cell_type": "markdown",
      "metadata": {
        "id": "S0TwmJhSSNip",
        "colab_type": "text"
      },
      "source": [
        "# **CIFAR10 CNN**"
      ]
    },
    {
      "cell_type": "code",
      "metadata": {
        "id": "4EHvKLbawPfx",
        "colab_type": "code",
        "colab": {}
      },
      "source": [
        "from tensorflow.keras.datasets import cifar10\n",
        "from matplotlib import pyplot as plt\n",
        "from tensorflow import keras\n",
        "import tensorflow.compat.v2 as tf\n",
        "from sklearn.model_selection import train_test_split\n",
        "from tensorflow.keras.utils import to_categorical as tcg\n",
        "from tensorflow.keras.models import Sequential\n",
        "from tensorflow.keras.layers import Dense, Flatten, Conv2D, MaxPooling2D, Dropout"
      ],
      "execution_count": null,
      "outputs": []
    },
    {
      "cell_type": "code",
      "metadata": {
        "id": "SMrjszw7xZFw",
        "colab_type": "code",
        "colab": {}
      },
      "source": [
        "(xtr,ytr),(xte,yte)=cifar10.load_data()"
      ],
      "execution_count": null,
      "outputs": []
    },
    {
      "cell_type": "code",
      "metadata": {
        "id": "hjZkN-tH0rxh",
        "colab_type": "code",
        "colab": {
          "base_uri": "https://localhost:8080/",
          "height": 34
        },
        "outputId": "d1528ba1-5c60-4544-bbb9-270e70f973ae"
      },
      "source": [
        "xtr.shape"
      ],
      "execution_count": null,
      "outputs": [
        {
          "output_type": "execute_result",
          "data": {
            "text/plain": [
              "(50000, 32, 32, 3)"
            ]
          },
          "metadata": {
            "tags": []
          },
          "execution_count": 28
        }
      ]
    },
    {
      "cell_type": "code",
      "metadata": {
        "id": "4K1G54bHBx66",
        "colab_type": "code",
        "colab": {
          "base_uri": "https://localhost:8080/",
          "height": 283
        },
        "outputId": "1bc49b17-7906-4133-c3d7-21524b7b8beb"
      },
      "source": [
        "plt.imshow(xtr[99], cmap='gray')"
      ],
      "execution_count": null,
      "outputs": [
        {
          "output_type": "execute_result",
          "data": {
            "text/plain": [
              "<matplotlib.image.AxesImage at 0x7fbfdcdf2940>"
            ]
          },
          "metadata": {
            "tags": []
          },
          "execution_count": 29
        },
        {
          "output_type": "display_data",
          "data": {
            "image/png": "[encoded data removed]",
            "text/plain": [
              "<Figure size 432x288 with 1 Axes>"
            ]
          },
          "metadata": {
            "tags": [],
            "needs_background": "light"
          }
        }
      ]
    },
    {
      "cell_type": "code",
      "metadata": {
        "id": "P4NfYkwQDNA-",
        "colab_type": "code",
        "colab": {
          "base_uri": "https://localhost:8080/",
          "height": 34
        },
        "outputId": "703960cb-dc86-44f1-a6a4-ef0162e5f4a6"
      },
      "source": [
        "ytr[99]"
      ],
      "execution_count": null,
      "outputs": [
        {
          "output_type": "execute_result",
          "data": {
            "text/plain": [
              "array([1], dtype=uint8)"
            ]
          },
          "metadata": {
            "tags": []
          },
          "execution_count": 30
        }
      ]
    },
    {
      "cell_type": "code",
      "metadata": {
        "id": "O3HFAc1UqETZ",
        "colab_type": "code",
        "colab": {
          "base_uri": "https://localhost:8080/",
          "height": 283
        },
        "outputId": "42433dd8-ec93-445f-a0bb-b9a73db8bb3b"
      },
      "source": [
        "plt.imshow(xte[99], cmap='gray')"
      ],
      "execution_count": null,
      "outputs": [
        {
          "output_type": "execute_result",
          "data": {
            "text/plain": [
              "<matplotlib.image.AxesImage at 0x7fbfdce7bcc0>"
            ]
          },
          "metadata": {
            "tags": []
          },
          "execution_count": 31
        },
        {
          "output_type": "display_data",
          "data": {
            "image/png": "[encoded data removed]",
            "text/plain": [
              "<Figure size 432x288 with 1 Axes>"
            ]
          },
          "metadata": {
            "tags": [],
            "needs_background": "light"
          }
        }
      ]
    },
    {
      "cell_type": "code",
      "metadata": {
        "id": "j6jzqki2qLmb",
        "colab_type": "code",
        "colab": {
          "base_uri": "https://localhost:8080/",
          "height": 34
        },
        "outputId": "03069c73-15c9-4de3-89ae-28918015558f"
      },
      "source": [
        "yte[99]"
      ],
      "execution_count": null,
      "outputs": [
        {
          "output_type": "execute_result",
          "data": {
            "text/plain": [
              "array([7], dtype=uint8)"
            ]
          },
          "metadata": {
            "tags": []
          },
          "execution_count": 32
        }
      ]
    },
    {
      "cell_type": "code",
      "metadata": {
        "id": "ZKJ7-AwK0q2w",
        "colab_type": "code",
        "colab": {}
      },
      "source": [
        "ytr=tcg(ytr)\n",
        "yte=tcg(yte)"
      ],
      "execution_count": null,
      "outputs": []
    },
    {
      "cell_type": "code",
      "metadata": {
        "id": "-TRlMrFhxaHS",
        "colab_type": "code",
        "colab": {}
      },
      "source": [
        "xte=xte.reshape(xte.shape[0],xte.shape[1],xte.shape[2],3).astype('float32')/255\n",
        "xtr=xtr.reshape(xtr.shape[0],xtr.shape[1],xtr.shape[2],3).astype('float32')/255"
      ],
      "execution_count": null,
      "outputs": []
    },
    {
      "cell_type": "code",
      "metadata": {
        "id": "JYUEbiZyoL_y",
        "colab_type": "code",
        "colab": {}
      },
      "source": [
        "model=Sequential()\n",
        "model.add(Conv2D(64,(3,3),input_shape=(32,32,3),activation='relu'))\n",
        "model.add(Conv2D(32,(3,3),activation='relu'))\n",
        "model.add(MaxPooling2D(pool_size=(2,2)))\n",
        "model.add(Dropout(0.3))\n",
        "\n",
        "model.add(Conv2D(64,(3,3),activation='relu'))\n",
        "model.add(Conv2D(32,(3,3),activation='relu'))\n",
        "model.add(MaxPooling2D(pool_size=(2,2)))\n",
        "model.add(Dropout(0.4))\n",
        "\n",
        "model.add(Flatten())\n",
        "\n",
        "model.add(Dense(512,activation='relu'))\n",
        "model.add(Dropout(0.4))\n",
        "model.add(Dense(256,activation='relu'))\n",
        "model.add(Dropout(0.4))\n",
        "model.add(Dense(10, activation='softmax'))"
      ],
      "execution_count": null,
      "outputs": []
    },
    {
      "cell_type": "code",
      "metadata": {
        "id": "Cwvo7vHlYfxh",
        "colab_type": "code",
        "colab": {}
      },
      "source": [
        "model.compile(loss='categorical_crossentropy',optimizer='adam', metrics=['accuracy'])"
      ],
      "execution_count": null,
      "outputs": []
    },
    {
      "cell_type": "code",
      "metadata": {
        "id": "xufOKyQkYvTe",
        "colab_type": "code",
        "colab": {
          "base_uri": "https://localhost:8080/",
          "height": 521
        },
        "outputId": "12802b83-fafd-4621-e76a-e248fe7ede81"
      },
      "source": [
        "history = model.fit(xtr,ytr, validation_data=(xte,yte),epochs=15, batch_size=128)"
      ],
      "execution_count": null,
      "outputs": [
        {
          "output_type": "stream",
          "text": [
            "Epoch 1/15\n",
            "391/391 [==============================] - 4s 11ms/step - loss: 1.7685 - accuracy: 0.3379 - val_loss: 1.4028 - val_accuracy: 0.4939\n",
            "Epoch 2/15\n",
            "391/391 [==============================] - 4s 10ms/step - loss: 1.3900 - accuracy: 0.4971 - val_loss: 1.2225 - val_accuracy: 0.5600\n",
            "Epoch 3/15\n",
            "391/391 [==============================] - 4s 11ms/step - loss: 1.2394 - accuracy: 0.5556 - val_loss: 1.0678 - val_accuracy: 0.6236\n",
            "Epoch 4/15\n",
            "391/391 [==============================] - 4s 11ms/step - loss: 1.1353 - accuracy: 0.5983 - val_loss: 0.9946 - val_accuracy: 0.6510\n",
            "Epoch 5/15\n",
            "391/391 [==============================] - 4s 10ms/step - loss: 1.0434 - accuracy: 0.6315 - val_loss: 0.9380 - val_accuracy: 0.6687\n",
            "Epoch 6/15\n",
            "391/391 [==============================] - 4s 11ms/step - loss: 0.9908 - accuracy: 0.6509 - val_loss: 0.8607 - val_accuracy: 0.7007\n",
            "Epoch 7/15\n",
            "391/391 [==============================] - 4s 11ms/step - loss: 0.9382 - accuracy: 0.6694 - val_loss: 0.8181 - val_accuracy: 0.7170\n",
            "Epoch 8/15\n",
            "391/391 [==============================] - 4s 11ms/step - loss: 0.8994 - accuracy: 0.6845 - val_loss: 0.8037 - val_accuracy: 0.7258\n",
            "Epoch 9/15\n",
            "391/391 [==============================] - 4s 11ms/step - loss: 0.8690 - accuracy: 0.6948 - val_loss: 0.7829 - val_accuracy: 0.7265\n",
            "Epoch 10/15\n",
            "391/391 [==============================] - 4s 11ms/step - loss: 0.8385 - accuracy: 0.7049 - val_loss: 0.7446 - val_accuracy: 0.7400\n",
            "Epoch 11/15\n",
            "391/391 [==============================] - 4s 11ms/step - loss: 0.8191 - accuracy: 0.7114 - val_loss: 0.7162 - val_accuracy: 0.7515\n",
            "Epoch 12/15\n",
            "391/391 [==============================] - 4s 11ms/step - loss: 0.7967 - accuracy: 0.7203 - val_loss: 0.7087 - val_accuracy: 0.7517\n",
            "Epoch 13/15\n",
            "391/391 [==============================] - 4s 11ms/step - loss: 0.7780 - accuracy: 0.7272 - val_loss: 0.7069 - val_accuracy: 0.7548\n",
            "Epoch 14/15\n",
            "391/391 [==============================] - 4s 11ms/step - loss: 0.7620 - accuracy: 0.7302 - val_loss: 0.6810 - val_accuracy: 0.7677\n",
            "Epoch 15/15\n",
            "391/391 [==============================] - 4s 11ms/step - loss: 0.7524 - accuracy: 0.7370 - val_loss: 0.6804 - val_accuracy: 0.7653\n"
          ],
          "name": "stdout"
        }
      ]
    },
    {
      "cell_type": "code",
      "metadata": {
        "id": "EInMzdXLd5o8",
        "colab_type": "code",
        "colab": {
          "base_uri": "https://localhost:8080/",
          "height": 50
        },
        "outputId": "bf9464ae-a9ce-48c1-aee6-734127543f0e"
      },
      "source": [
        "model.evaluate(xtr,ytr)"
      ],
      "execution_count": null,
      "outputs": [
        {
          "output_type": "stream",
          "text": [
            "1563/1563 [==============================] - 4s 3ms/step - loss: 0.5249 - accuracy: 0.8202\n"
          ],
          "name": "stdout"
        },
        {
          "output_type": "execute_result",
          "data": {
            "text/plain": [
              "[0.5248758792877197, 0.8201599717140198]"
            ]
          },
          "metadata": {
            "tags": []
          },
          "execution_count": 38
        }
      ]
    },
    {
      "cell_type": "code",
      "metadata": {
        "id": "NX3dcCLwOTP4",
        "colab_type": "code",
        "colab": {
          "base_uri": "https://localhost:8080/",
          "height": 34
        },
        "outputId": "89e5c0f0-21b7-4024-dd91-9d158e8ce3ae"
      },
      "source": [
        "score = model.evaluate(xte,yte)"
      ],
      "execution_count": null,
      "outputs": [
        {
          "output_type": "stream",
          "text": [
            "313/313 [==============================] - 1s 3ms/step - loss: 0.6804 - accuracy: 0.7653\n"
          ],
          "name": "stdout"
        }
      ]
    },
    {
      "cell_type": "code",
      "metadata": {
        "id": "SHmlsgxbA_Bk",
        "colab_type": "code",
        "colab": {
          "base_uri": "https://localhost:8080/",
          "height": 50
        },
        "outputId": "46ef8ce1-26e9-48a2-fbae-f1bbcd158345"
      },
      "source": [
        "print('Test loss:', score[0])\n",
        "print('Test accuracy:', score[1])"
      ],
      "execution_count": null,
      "outputs": [
        {
          "output_type": "stream",
          "text": [
            "Test loss: 0.680413544178009\n",
            "Test accuracy: 0.7652999758720398\n"
          ],
          "name": "stdout"
        }
      ]
    },
    {
      "cell_type": "code",
      "metadata": {
        "id": "EGHODHTGBUyv",
        "colab_type": "code",
        "colab": {
          "base_uri": "https://localhost:8080/",
          "height": 295
        },
        "outputId": "4aa07ec3-4fe3-46f7-f8af-5e8ead55c771"
      },
      "source": [
        "plt.plot(history.history['accuracy'])\n",
        "plt.plot(history.history['val_accuracy'])\n",
        "plt.title('model accuracy')\n",
        "plt.ylabel('accuracy')\n",
        "plt.xlabel('epoch')\n",
        "plt.legend(['train', 'test'], loc='upper left')\n",
        "plt.show()"
      ],
      "execution_count": null,
      "outputs": [
        {
          "output_type": "display_data",
          "data": {
            "image/png": "[encoded data removed]",
            "text/plain": [
              "<Figure size 432x288 with 1 Axes>"
            ]
          },
          "metadata": {
            "tags": [],
            "needs_background": "light"
          }
        }
      ]
    },
    {
      "cell_type": "code",
      "metadata": {
        "id": "WyN_Wd31kLKS",
        "colab_type": "code",
        "colab": {
          "base_uri": "https://localhost:8080/",
          "height": 295
        },
        "outputId": "37b36cfb-590b-4472-9877-c1aacab733a8"
      },
      "source": [
        "plt.plot(history.history['loss'])\n",
        "plt.plot(history.history['val_loss'])\n",
        "plt.title('model loss')\n",
        "plt.ylabel('loss')\n",
        "plt.xlabel('epoch')\n",
        "plt.legend(['train', 'test'], loc='upper left')\n",
        "plt.show()"
      ],
      "execution_count": null,
      "outputs": [
        {
          "output_type": "display_data",
          "data": {
            "image/png": "[encoded data removed]",
            "text/plain": [
              "<Figure size 432x288 with 1 Axes>"
            ]
          },
          "metadata": {
            "tags": [],
            "needs_background": "light"
          }
        }
      ]
    },
    {
      "cell_type": "code",
      "metadata": {
        "id": "sBB5w1wsIjR_",
        "colab_type": "code",
        "colab": {}
      },
      "source": [
        "model.save(\"CNN_cifar_10.h5\")"
      ],
      "execution_count": null,
      "outputs": []
    },
    {
      "cell_type": "code",
      "metadata": {
        "id": "4DE2jirPIr45",
        "colab_type": "code",
        "colab": {}
      },
      "source": [
        "model.load_weights(\"CNN_cifar.h5\")"
      ],
      "execution_count": null,
      "outputs": []
    },
    {
      "cell_type": "code",
      "metadata": {
        "id": "aBrEpp4YIxGR",
        "colab_type": "code",
        "colab": {
          "base_uri": "https://localhost:8080/",
          "height": 622
        },
        "outputId": "47f92534-97e7-4aee-f334-56cdad84f1eb"
      },
      "source": [
        "loaded_model = tf.keras.models.load_model(\"CNN_cifar.h5\")\n",
        "\n",
        "loaded_model.summary()"
      ],
      "execution_count": null,
      "outputs": [
        {
          "output_type": "stream",
          "text": [
            "Model: \"sequential_1\"\n",
            "_________________________________________________________________\n",
            "Layer (type)                 Output Shape              Param #   \n",
            "=================================================================\n",
            "conv2d_4 (Conv2D)            (None, 30, 30, 64)        1792      \n",
            "_________________________________________________________________\n",
            "conv2d_5 (Conv2D)            (None, 28, 28, 32)        18464     \n",
            "_________________________________________________________________\n",
            "max_pooling2d_2 (MaxPooling2 (None, 14, 14, 32)        0         \n",
            "_________________________________________________________________\n",
            "dropout_4 (Dropout)          (None, 14, 14, 32)        0         \n",
            "_________________________________________________________________\n",
            "conv2d_6 (Conv2D)            (None, 12, 12, 64)        18496     \n",
            "_________________________________________________________________\n",
            "conv2d_7 (Conv2D)            (None, 10, 10, 32)        18464     \n",
            "_________________________________________________________________\n",
            "max_pooling2d_3 (MaxPooling2 (None, 5, 5, 32)          0         \n",
            "_________________________________________________________________\n",
            "dropout_5 (Dropout)          (None, 5, 5, 32)          0         \n",
            "_________________________________________________________________\n",
            "flatten_1 (Flatten)          (None, 800)               0         \n",
            "_________________________________________________________________\n",
            "dense_3 (Dense)              (None, 512)               410112    \n",
            "_________________________________________________________________\n",
            "dropout_6 (Dropout)          (None, 512)               0         \n",
            "_________________________________________________________________\n",
            "dense_4 (Dense)              (None, 256)               131328    \n",
            "_________________________________________________________________\n",
            "dropout_7 (Dropout)          (None, 256)               0         \n",
            "_________________________________________________________________\n",
            "dense_5 (Dense)              (None, 10)                2570      \n",
            "=================================================================\n",
            "Total params: 601,226\n",
            "Trainable params: 601,226\n",
            "Non-trainable params: 0\n",
            "_________________________________________________________________\n"
          ],
          "name": "stdout"
        }
      ]
    },
    {
      "cell_type": "code",
      "metadata": {
        "id": "6wk9Qu8H1t4A",
        "colab_type": "code",
        "colab": {}
      },
      "source": [
        "np.save('my_history.npy',history.history)"
      ],
      "execution_count": null,
      "outputs": []
    }
  ]
}